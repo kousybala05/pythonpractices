{
 "cells": [
  {
   "cell_type": "markdown",
   "id": "3500f38c",
   "metadata": {},
   "source": [
    "# strings"
   ]
  },
  {
   "cell_type": "markdown",
   "id": "05bd2e12",
   "metadata": {},
   "source": [
    "#indexing and slicing of string\n"
   ]
  },
  {
   "cell_type": "code",
   "execution_count": 4,
   "id": "c750ce44",
   "metadata": {},
   "outputs": [
    {
     "data": {
      "text/plain": [
       "'indexing and slicing'"
      ]
     },
     "execution_count": 4,
     "metadata": {},
     "output_type": "execute_result"
    }
   ],
   "source": [
    "new=\"indexing and slicing\"\n",
    "new[:]"
   ]
  },
  {
   "cell_type": "code",
   "execution_count": 5,
   "id": "4088a619",
   "metadata": {},
   "outputs": [
    {
     "data": {
      "text/plain": [
       "'ndexing'"
      ]
     },
     "execution_count": 5,
     "metadata": {},
     "output_type": "execute_result"
    }
   ],
   "source": [
    "new[1:8]"
   ]
  },
  {
   "cell_type": "code",
   "execution_count": 6,
   "id": "a42c9cee",
   "metadata": {},
   "outputs": [
    {
     "data": {
      "text/plain": [
       "'indexing and slicing'"
      ]
     },
     "execution_count": 6,
     "metadata": {},
     "output_type": "execute_result"
    }
   ],
   "source": [
    "new[:len(new)]"
   ]
  },
  {
   "cell_type": "code",
   "execution_count": 7,
   "id": "89c1b4de",
   "metadata": {},
   "outputs": [
    {
     "data": {
      "text/plain": [
       "'gnicils dna gnixedni'"
      ]
     },
     "execution_count": 7,
     "metadata": {},
     "output_type": "execute_result"
    }
   ],
   "source": [
    "new[::-1]    #reversing a string"
   ]
  },
  {
   "cell_type": "code",
   "execution_count": 13,
   "id": "6352e938",
   "metadata": {},
   "outputs": [
    {
     "data": {
      "text/plain": [
       "'s'"
      ]
     },
     "execution_count": 13,
     "metadata": {},
     "output_type": "execute_result"
    }
   ],
   "source": [
    "new[::-1][6]"
   ]
  },
  {
   "cell_type": "code",
   "execution_count": 9,
   "id": "c73ea108",
   "metadata": {},
   "outputs": [
    {
     "data": {
      "text/plain": [
       "'i'"
      ]
     },
     "execution_count": 9,
     "metadata": {},
     "output_type": "execute_result"
    }
   ],
   "source": [
    "new[5]"
   ]
  },
  {
   "cell_type": "code",
   "execution_count": 15,
   "id": "a30778c5",
   "metadata": {},
   "outputs": [
    {
     "data": {
      "text/plain": [
       "'g'"
      ]
     },
     "execution_count": 15,
     "metadata": {},
     "output_type": "execute_result"
    }
   ],
   "source": [
    "new[-1]"
   ]
  },
  {
   "cell_type": "code",
   "execution_count": 16,
   "id": "69d5f228",
   "metadata": {},
   "outputs": [
    {
     "data": {
      "text/plain": [
       "'indexing and slicing'"
      ]
     },
     "execution_count": 16,
     "metadata": {},
     "output_type": "execute_result"
    }
   ],
   "source": [
    "new[0:]"
   ]
  },
  {
   "cell_type": "code",
   "execution_count": 17,
   "id": "547ef811",
   "metadata": {},
   "outputs": [
    {
     "data": {
      "text/plain": [
       "'indexin'"
      ]
     },
     "execution_count": 17,
     "metadata": {},
     "output_type": "execute_result"
    }
   ],
   "source": [
    "new[:7]"
   ]
  },
  {
   "cell_type": "code",
   "execution_count": 18,
   "id": "0f5dc3fe",
   "metadata": {},
   "outputs": [
    {
     "data": {
      "text/plain": [
       "'ndexing and slic'"
      ]
     },
     "execution_count": 18,
     "metadata": {},
     "output_type": "execute_result"
    }
   ],
   "source": [
    "new[1:-3]"
   ]
  },
  {
   "cell_type": "code",
   "execution_count": 19,
   "id": "ccd04ed4",
   "metadata": {},
   "outputs": [
    {
     "ename": "IndexError",
     "evalue": "string index out of range",
     "output_type": "error",
     "traceback": [
      "\u001b[1;31m---------------------------------------------------------------------------\u001b[0m",
      "\u001b[1;31mIndexError\u001b[0m                                Traceback (most recent call last)",
      "\u001b[1;32m<ipython-input-19-160bab01b61e>\u001b[0m in \u001b[0;36m<module>\u001b[1;34m\u001b[0m\n\u001b[1;32m----> 1\u001b[1;33m \u001b[0mnew\u001b[0m\u001b[1;33m[\u001b[0m\u001b[0mlen\u001b[0m\u001b[1;33m(\u001b[0m\u001b[0mnew\u001b[0m\u001b[1;33m)\u001b[0m\u001b[1;33m]\u001b[0m\u001b[1;33m\u001b[0m\u001b[1;33m\u001b[0m\u001b[0m\n\u001b[0m",
      "\u001b[1;31mIndexError\u001b[0m: string index out of range"
     ]
    }
   ],
   "source": [
    "new[len(new)]"
   ]
  },
  {
   "cell_type": "code",
   "execution_count": 20,
   "id": "ca907599",
   "metadata": {},
   "outputs": [
    {
     "data": {
      "text/plain": [
       "'i'"
      ]
     },
     "execution_count": 20,
     "metadata": {},
     "output_type": "execute_result"
    }
   ],
   "source": [
    "new[0:1:2]"
   ]
  },
  {
   "cell_type": "code",
   "execution_count": 21,
   "id": "60d7b3c5",
   "metadata": {},
   "outputs": [
    {
     "data": {
      "text/plain": [
       "'idxn n lcn'"
      ]
     },
     "execution_count": 21,
     "metadata": {},
     "output_type": "execute_result"
    }
   ],
   "source": [
    "new[0:len(new):2]"
   ]
  },
  {
   "cell_type": "code",
   "execution_count": 22,
   "id": "54b3ade5",
   "metadata": {},
   "outputs": [
    {
     "data": {
      "text/plain": [
       "''"
      ]
     },
     "execution_count": 22,
     "metadata": {},
     "output_type": "execute_result"
    }
   ],
   "source": [
    "new[0:len(new):-2]"
   ]
  },
  {
   "cell_type": "code",
   "execution_count": 23,
   "id": "a8f6f282",
   "metadata": {},
   "outputs": [
    {
     "data": {
      "text/plain": [
       "'n lcn'"
      ]
     },
     "execution_count": 23,
     "metadata": {},
     "output_type": "execute_result"
    }
   ],
   "source": [
    "new[10:len(new):2]"
   ]
  },
  {
   "cell_type": "code",
   "execution_count": 26,
   "id": "19912670",
   "metadata": {},
   "outputs": [
    {
     "data": {
      "text/plain": [
       "'giisdagien'"
      ]
     },
     "execution_count": 26,
     "metadata": {},
     "output_type": "execute_result"
    }
   ],
   "source": [
    "new[len(new):0:-2]"
   ]
  },
  {
   "cell_type": "markdown",
   "id": "e40bfbca",
   "metadata": {},
   "source": [
    "#inbuild string functions"
   ]
  },
  {
   "cell_type": "code",
   "execution_count": 28,
   "id": "82514f28",
   "metadata": {},
   "outputs": [
    {
     "data": {
      "text/plain": [
       "'i ! n ! d ! e ! x ! i ! n ! g !   ! a ! n ! d !   ! s ! l ! i ! c ! i ! n ! g'"
      ]
     },
     "execution_count": 28,
     "metadata": {},
     "output_type": "execute_result"
    }
   ],
   "source": [
    "seperate=' ! '       \n",
    "seperate.join(new)"
   ]
  },
  {
   "cell_type": "code",
   "execution_count": 29,
   "id": "7a07a91b",
   "metadata": {},
   "outputs": [
    {
     "data": {
      "text/plain": [
       "'INDEXING AND SLICING'"
      ]
     },
     "execution_count": 29,
     "metadata": {},
     "output_type": "execute_result"
    }
   ],
   "source": [
    "new.upper()   #uppercase"
   ]
  },
  {
   "cell_type": "code",
   "execution_count": 30,
   "id": "f37d5c18",
   "metadata": {},
   "outputs": [
    {
     "data": {
      "text/plain": [
       "'indexing and slicing'"
      ]
     },
     "execution_count": 30,
     "metadata": {},
     "output_type": "execute_result"
    }
   ],
   "source": [
    "new.lower()              #lowercase"
   ]
  },
  {
   "cell_type": "code",
   "execution_count": 31,
   "id": "f0964c1c",
   "metadata": {},
   "outputs": [
    {
     "data": {
      "text/plain": [
       "'Indexing And Slicing'"
      ]
     },
     "execution_count": 31,
     "metadata": {},
     "output_type": "execute_result"
    }
   ],
   "source": [
    "new.title()"
   ]
  },
  {
   "cell_type": "code",
   "execution_count": 33,
   "id": "aed8abf9",
   "metadata": {},
   "outputs": [
    {
     "data": {
      "text/plain": [
       "'ndexing and slicing'"
      ]
     },
     "execution_count": 33,
     "metadata": {},
     "output_type": "execute_result"
    }
   ],
   "source": [
    "new.strip('i')"
   ]
  },
  {
   "cell_type": "code",
   "execution_count": 35,
   "id": "199a9388",
   "metadata": {},
   "outputs": [
    {
     "data": {
      "text/plain": [
       "' this is a text'"
      ]
     },
     "execution_count": 35,
     "metadata": {},
     "output_type": "execute_result"
    }
   ],
   "source": [
    "text=\"***** this is a text*******\"   #removing leading and trailing characters\n",
    "text.strip('*')"
   ]
  },
  {
   "cell_type": "code",
   "execution_count": 36,
   "id": "ff24fcf6",
   "metadata": {},
   "outputs": [
    {
     "ename": "AttributeError",
     "evalue": "'str' object has no attribute 'uppercase'",
     "output_type": "error",
     "traceback": [
      "\u001b[1;31m---------------------------------------------------------------------------\u001b[0m",
      "\u001b[1;31mAttributeError\u001b[0m                            Traceback (most recent call last)",
      "\u001b[1;32m<ipython-input-36-25fc502864b6>\u001b[0m in \u001b[0;36m<module>\u001b[1;34m\u001b[0m\n\u001b[1;32m----> 1\u001b[1;33m \u001b[0mtext\u001b[0m\u001b[1;33m.\u001b[0m\u001b[0muppercase\u001b[0m\u001b[1;33m(\u001b[0m\u001b[1;33m)\u001b[0m\u001b[1;33m\u001b[0m\u001b[1;33m\u001b[0m\u001b[0m\n\u001b[0m",
      "\u001b[1;31mAttributeError\u001b[0m: 'str' object has no attribute 'uppercase'"
     ]
    }
   ],
   "source": [
    "text.uppercase()"
   ]
  },
  {
   "cell_type": "code",
   "execution_count": 37,
   "id": "43ad7cc6",
   "metadata": {},
   "outputs": [
    {
     "data": {
      "text/plain": [
       "'***** THIS IS A TEXT*******'"
      ]
     },
     "execution_count": 37,
     "metadata": {},
     "output_type": "execute_result"
    }
   ],
   "source": [
    "new_word=text.upper()\n",
    "new_word"
   ]
  },
  {
   "cell_type": "code",
   "execution_count": 38,
   "id": "53a79861",
   "metadata": {},
   "outputs": [
    {
     "data": {
      "text/plain": [
       "' this  ** is a * text'"
      ]
     },
     "execution_count": 38,
     "metadata": {},
     "output_type": "execute_result"
    }
   ],
   "source": [
    "text=\"***** this  ** is a * text*******\" \n",
    "text.strip('*')"
   ]
  },
  {
   "cell_type": "code",
   "execution_count": 39,
   "id": "ae497d08",
   "metadata": {},
   "outputs": [
    {
     "ename": "NameError",
     "evalue": "name 'newtext' is not defined",
     "output_type": "error",
     "traceback": [
      "\u001b[1;31m---------------------------------------------------------------------------\u001b[0m",
      "\u001b[1;31mNameError\u001b[0m                                 Traceback (most recent call last)",
      "\u001b[1;32m<ipython-input-39-6ae147fbd271>\u001b[0m in \u001b[0;36m<module>\u001b[1;34m\u001b[0m\n\u001b[1;32m----> 1\u001b[1;33m \u001b[0mtext\u001b[0m\u001b[1;33m.\u001b[0m\u001b[0mreplace\u001b[0m\u001b[1;33m(\u001b[0m\u001b[0mtext\u001b[0m\u001b[1;33m,\u001b[0m\u001b[0mnewtext\u001b[0m\u001b[1;33m)\u001b[0m\u001b[1;33m\u001b[0m\u001b[1;33m\u001b[0m\u001b[0m\n\u001b[0m",
      "\u001b[1;31mNameError\u001b[0m: name 'newtext' is not defined"
     ]
    }
   ],
   "source": [
    "text.replace(text,newtext)"
   ]
  },
  {
   "cell_type": "code",
   "execution_count": 40,
   "id": "a62bb986",
   "metadata": {},
   "outputs": [
    {
     "data": {
      "text/plain": [
       "'***** this  ** is a * newtext*******'"
      ]
     },
     "execution_count": 40,
     "metadata": {},
     "output_type": "execute_result"
    }
   ],
   "source": [
    "text.replace('text','newtext')"
   ]
  },
  {
   "cell_type": "code",
   "execution_count": 41,
   "id": "5db28bb6",
   "metadata": {},
   "outputs": [
    {
     "data": {
      "text/plain": [
       "'***** this  ** is a * text*******'"
      ]
     },
     "execution_count": 41,
     "metadata": {},
     "output_type": "execute_result"
    }
   ],
   "source": [
    "text.replace('Text','newtext')"
   ]
  },
  {
   "cell_type": "code",
   "execution_count": 42,
   "id": "16f4edbc",
   "metadata": {},
   "outputs": [
    {
     "data": {
      "text/plain": [
       "'indexing & slicing'"
      ]
     },
     "execution_count": 42,
     "metadata": {},
     "output_type": "execute_result"
    }
   ],
   "source": [
    "new.replace('and','&')"
   ]
  },
  {
   "cell_type": "code",
   "execution_count": 43,
   "id": "b5e8cc3f",
   "metadata": {},
   "outputs": [
    {
     "data": {
      "text/plain": [
       "('01', '10', '2021')"
      ]
     },
     "execution_count": 43,
     "metadata": {},
     "output_type": "execute_result"
    }
   ],
   "source": [
    "date=\"01\",\"10\",\"2021\"\n",
    "date"
   ]
  },
  {
   "cell_type": "code",
   "execution_count": 44,
   "id": "ddf76968",
   "metadata": {},
   "outputs": [
    {
     "data": {
      "text/plain": [
       "'01/10/2021'"
      ]
     },
     "execution_count": 44,
     "metadata": {},
     "output_type": "execute_result"
    }
   ],
   "source": [
    "sym='/'\n",
    "sym.join(date)"
   ]
  },
  {
   "cell_type": "code",
   "execution_count": 45,
   "id": "92263431",
   "metadata": {},
   "outputs": [
    {
     "data": {
      "text/plain": [
       "tuple"
      ]
     },
     "execution_count": 45,
     "metadata": {},
     "output_type": "execute_result"
    }
   ],
   "source": [
    "type(date)"
   ]
  },
  {
   "cell_type": "code",
   "execution_count": null,
   "id": "b799b360",
   "metadata": {},
   "outputs": [],
   "source": []
  }
 ],
 "metadata": {
  "kernelspec": {
   "display_name": "Python 3",
   "language": "python",
   "name": "python3"
  },
  "language_info": {
   "codemirror_mode": {
    "name": "ipython",
    "version": 3
   },
   "file_extension": ".py",
   "mimetype": "text/x-python",
   "name": "python",
   "nbconvert_exporter": "python",
   "pygments_lexer": "ipython3",
   "version": "3.8.8"
  }
 },
 "nbformat": 4,
 "nbformat_minor": 5
}
