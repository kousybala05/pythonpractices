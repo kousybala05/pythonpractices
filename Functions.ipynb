{
 "cells": [
  {
   "cell_type": "markdown",
   "id": "fcf44a01",
   "metadata": {},
   "source": [
    "#a function is a block of reusable code that runs when call "
   ]
  },
  {
   "cell_type": "code",
   "execution_count": 1,
   "id": "bb0b3e12",
   "metadata": {},
   "outputs": [
    {
     "name": "stdout",
     "output_type": "stream",
     "text": [
      "hello World\n"
     ]
    }
   ],
   "source": [
    "print(\"hello World\")"
   ]
  },
  {
   "cell_type": "code",
   "execution_count": 2,
   "id": "93047fc6",
   "metadata": {},
   "outputs": [
    {
     "name": "stdout",
     "output_type": "stream",
     "text": [
      "hello me\n"
     ]
    }
   ],
   "source": [
    "print(\"hello\",\"me\")"
   ]
  },
  {
   "cell_type": "code",
   "execution_count": 3,
   "id": "0a92debd",
   "metadata": {},
   "outputs": [
    {
     "data": {
      "text/plain": [
       "['a', 'b', 'c']"
      ]
     },
     "execution_count": 3,
     "metadata": {},
     "output_type": "execute_result"
    }
   ],
   "source": [
    "alpha=[\"a\",\"b\",\"c\"]\n",
    "alpha"
   ]
  },
  {
   "cell_type": "code",
   "execution_count": 4,
   "id": "0b0d27b0",
   "metadata": {},
   "outputs": [
    {
     "data": {
      "text/plain": [
       "('a', 'b', 'c')"
      ]
     },
     "execution_count": 4,
     "metadata": {},
     "output_type": "execute_result"
    }
   ],
   "source": [
    "alpha=(\"a\",\"b\",\"c\")\n",
    "alpha"
   ]
  },
  {
   "cell_type": "code",
   "execution_count": 5,
   "id": "e3898c27",
   "metadata": {},
   "outputs": [
    {
     "name": "stdout",
     "output_type": "stream",
     "text": [
      "7.8\n"
     ]
    }
   ],
   "source": [
    "print(7.8)"
   ]
  },
  {
   "cell_type": "code",
   "execution_count": 8,
   "id": "f2697474",
   "metadata": {},
   "outputs": [
    {
     "name": "stdout",
     "output_type": "stream",
     "text": [
      "I am curious to learn datascience\n"
     ]
    }
   ],
   "source": [
    "print(\"I am curious to learn datascience\",sep=\",\")"
   ]
  },
  {
   "cell_type": "code",
   "execution_count": 10,
   "id": "e5eb4a26",
   "metadata": {},
   "outputs": [
    {
     "name": "stdout",
     "output_type": "stream",
     "text": [
      "I,am,curious to learn,datascience\n"
     ]
    }
   ],
   "source": [
    "print(\"I\",\"am\", \"curious to learn\",\"datascience\",sep=\",\")"
   ]
  },
  {
   "cell_type": "code",
   "execution_count": 11,
   "id": "61f8b5a1",
   "metadata": {},
   "outputs": [
    {
     "name": "stdout",
     "output_type": "stream",
     "text": [
      "I*am*curious to learn*datascience\n"
     ]
    }
   ],
   "source": [
    "print(\"I\",\"am\", \"curious to learn\",\"datascience\",sep=\"*\")"
   ]
  },
  {
   "cell_type": "code",
   "execution_count": 12,
   "id": "48778d97",
   "metadata": {},
   "outputs": [
    {
     "ename": "SyntaxError",
     "evalue": "EOL while scanning string literal (<ipython-input-12-0aca92da2e42>, line 1)",
     "output_type": "error",
     "traceback": [
      "\u001b[1;36m  File \u001b[1;32m\"<ipython-input-12-0aca92da2e42>\"\u001b[1;36m, line \u001b[1;32m1\u001b[0m\n\u001b[1;33m    print(\"I\",\"am\", \"curious to learn\",\"datascience\",sep=\"\\\"\\)\u001b[0m\n\u001b[1;37m                                                              ^\u001b[0m\n\u001b[1;31mSyntaxError\u001b[0m\u001b[1;31m:\u001b[0m EOL while scanning string literal\n"
     ]
    }
   ],
   "source": [
    "print(\"I\",\"am\", \"curious to learn\",\"datascience\",sep=\"\\\"\\)"
   ]
  },
  {
   "cell_type": "code",
   "execution_count": 13,
   "id": "336d8b75",
   "metadata": {},
   "outputs": [
    {
     "ename": "SyntaxError",
     "evalue": "EOL while scanning string literal (<ipython-input-13-74a5c5def2fb>, line 1)",
     "output_type": "error",
     "traceback": [
      "\u001b[1;36m  File \u001b[1;32m\"<ipython-input-13-74a5c5def2fb>\"\u001b[1;36m, line \u001b[1;32m1\u001b[0m\n\u001b[1;33m    print(\"I\",\"am\", \"curious to learn\",\"datascience\",sep=\"\\\")\u001b[0m\n\u001b[1;37m                                                             ^\u001b[0m\n\u001b[1;31mSyntaxError\u001b[0m\u001b[1;31m:\u001b[0m EOL while scanning string literal\n"
     ]
    }
   ],
   "source": [
    "print(\"I\",\"am\", \"curious to learn\",\"datascience\",sep=\"\\\")"
   ]
  },
  {
   "cell_type": "code",
   "execution_count": 14,
   "id": "67368e76",
   "metadata": {},
   "outputs": [
    {
     "name": "stdout",
     "output_type": "stream",
     "text": [
      "I/am/curious to learn/datascience\n"
     ]
    }
   ],
   "source": [
    "print(\"I\",\"am\", \"curious to learn\",\"datascience\",sep=\"/\")"
   ]
  },
  {
   "cell_type": "code",
   "execution_count": 15,
   "id": "ee48a7bc",
   "metadata": {},
   "outputs": [
    {
     "name": "stdout",
     "output_type": "stream",
     "text": [
      "I,am,curious to learn,datascience\n",
      "\n",
      "\n",
      "I am curious to learn datascience\n"
     ]
    }
   ],
   "source": [
    "print(\"I\",\"am\", \"curious to learn\",\"datascience\",sep=\",\")\n",
    "print(\"\\n\")\n",
    "print(\"I\",\"am\", \"curious to learn\",\"datascience\")"
   ]
  },
  {
   "cell_type": "code",
   "execution_count": 18,
   "id": "d1437e83",
   "metadata": {},
   "outputs": [
    {
     "name": "stdout",
     "output_type": "stream",
     "text": [
      "datascience\n",
      "\t\n",
      "tab\n"
     ]
    }
   ],
   "source": [
    "print(\"datascience\")\n",
    "print(\"\\t\")\n",
    "print(\"tab\")"
   ]
  },
  {
   "cell_type": "code",
   "execution_count": 23,
   "id": "d4c54bad",
   "metadata": {},
   "outputs": [
    {
     "name": "stdout",
     "output_type": "stream",
     "text": [
      "\"hi ,this is aakash''s  car\"\n"
     ]
    }
   ],
   "source": [
    "print(\"\\\"hi ,this is aakash\\'\\'s  car\\\"\")"
   ]
  },
  {
   "cell_type": "code",
   "execution_count": 25,
   "id": "4385b1af",
   "metadata": {},
   "outputs": [
    {
     "name": "stdout",
     "output_type": "stream",
     "text": [
      "HelloWorld\n"
     ]
    }
   ],
   "source": [
    "print(\"Hello\"+\"World\")"
   ]
  },
  {
   "cell_type": "code",
   "execution_count": 26,
   "id": "8be7124b",
   "metadata": {},
   "outputs": [
    {
     "name": "stdout",
     "output_type": "stream",
     "text": [
      "Hello World\n"
     ]
    }
   ],
   "source": [
    "print(\"Hello\"+\" World\")"
   ]
  },
  {
   "cell_type": "code",
   "execution_count": 27,
   "id": "3fad3d0b",
   "metadata": {},
   "outputs": [
    {
     "ename": "TypeError",
     "evalue": "can only concatenate str (not \"int\") to str",
     "output_type": "error",
     "traceback": [
      "\u001b[1;31m---------------------------------------------------------------------------\u001b[0m",
      "\u001b[1;31mTypeError\u001b[0m                                 Traceback (most recent call last)",
      "\u001b[1;32m<ipython-input-27-00803c894886>\u001b[0m in \u001b[0;36m<module>\u001b[1;34m\u001b[0m\n\u001b[1;32m----> 1\u001b[1;33m \u001b[0mprint\u001b[0m\u001b[1;33m(\u001b[0m\u001b[1;34m\"string\"\u001b[0m\u001b[1;33m+\u001b[0m\u001b[1;36m5\u001b[0m\u001b[1;33m)\u001b[0m\u001b[1;33m\u001b[0m\u001b[1;33m\u001b[0m\u001b[0m\n\u001b[0m",
      "\u001b[1;31mTypeError\u001b[0m: can only concatenate str (not \"int\") to str"
     ]
    }
   ],
   "source": [
    "print(\"string\"+5) # string and int is not concatenated"
   ]
  },
  {
   "cell_type": "code",
   "execution_count": 28,
   "id": "6f727436",
   "metadata": {},
   "outputs": [
    {
     "name": "stdout",
     "output_type": "stream",
     "text": [
      "string5\n"
     ]
    }
   ],
   "source": [
    "print(\"string\"+\"5\")"
   ]
  },
  {
   "cell_type": "code",
   "execution_count": 30,
   "id": "ffb92f28",
   "metadata": {},
   "outputs": [
    {
     "name": "stdout",
     "output_type": "stream",
     "text": [
      "my age is 20\n"
     ]
    }
   ],
   "source": [
    "print(\"my age is \"+str(20))  #string +int"
   ]
  },
  {
   "cell_type": "code",
   "execution_count": null,
   "id": "7be9c147",
   "metadata": {},
   "outputs": [],
   "source": []
  }
 ],
 "metadata": {
  "kernelspec": {
   "display_name": "Python 3",
   "language": "python",
   "name": "python3"
  },
  "language_info": {
   "codemirror_mode": {
    "name": "ipython",
    "version": 3
   },
   "file_extension": ".py",
   "mimetype": "text/x-python",
   "name": "python",
   "nbconvert_exporter": "python",
   "pygments_lexer": "ipython3",
   "version": "3.8.8"
  }
 },
 "nbformat": 4,
 "nbformat_minor": 5
}
