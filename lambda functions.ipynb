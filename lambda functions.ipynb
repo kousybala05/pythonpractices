{
 "cells": [
  {
   "cell_type": "markdown",
   "id": "57219f60",
   "metadata": {},
   "source": [
    "# Lambda functions"
   ]
  },
  {
   "cell_type": "code",
   "execution_count": 3,
   "id": "de2f2681",
   "metadata": {},
   "outputs": [
    {
     "data": {
      "text/plain": [
       "100"
      ]
     },
     "execution_count": 3,
     "metadata": {},
     "output_type": "execute_result"
    }
   ],
   "source": [
    "greater=lambda n1,n2:n1 if n1>n2 else n2\n",
    "greater(100,67)"
   ]
  },
  {
   "cell_type": "code",
   "execution_count": 4,
   "id": "38ce5cff",
   "metadata": {},
   "outputs": [],
   "source": [
    "#map function in lambda\n",
    "number=list(range(1,21))"
   ]
  },
  {
   "cell_type": "code",
   "execution_count": 5,
   "id": "1f38b768",
   "metadata": {},
   "outputs": [
    {
     "data": {
      "text/plain": [
       "[1, 2, 3, 4, 5, 6, 7, 8, 9, 10, 11, 12, 13, 14, 15, 16, 17, 18, 19, 20]"
      ]
     },
     "execution_count": 5,
     "metadata": {},
     "output_type": "execute_result"
    }
   ],
   "source": [
    "number"
   ]
  },
  {
   "cell_type": "code",
   "execution_count": 6,
   "id": "62d03ca9",
   "metadata": {},
   "outputs": [],
   "source": [
    "squares=list(map(lambda x:x**2,number))"
   ]
  },
  {
   "cell_type": "code",
   "execution_count": 7,
   "id": "2baa4a26",
   "metadata": {},
   "outputs": [
    {
     "data": {
      "text/plain": [
       "[1,\n",
       " 4,\n",
       " 9,\n",
       " 16,\n",
       " 25,\n",
       " 36,\n",
       " 49,\n",
       " 64,\n",
       " 81,\n",
       " 100,\n",
       " 121,\n",
       " 144,\n",
       " 169,\n",
       " 196,\n",
       " 225,\n",
       " 256,\n",
       " 289,\n",
       " 324,\n",
       " 361,\n",
       " 400]"
      ]
     },
     "execution_count": 7,
     "metadata": {},
     "output_type": "execute_result"
    }
   ],
   "source": [
    "squares\n"
   ]
  },
  {
   "cell_type": "code",
   "execution_count": 23,
   "id": "e30ec6de",
   "metadata": {},
   "outputs": [],
   "source": [
    "A=list(map(lambda X:X+10,number))\n"
   ]
  },
  {
   "cell_type": "code",
   "execution_count": 15,
   "id": "0b9b9303",
   "metadata": {},
   "outputs": [
    {
     "data": {
      "text/plain": [
       "[11,\n",
       " 12,\n",
       " 13,\n",
       " 14,\n",
       " 15,\n",
       " 16,\n",
       " 17,\n",
       " 18,\n",
       " 19,\n",
       " 20,\n",
       " 21,\n",
       " 22,\n",
       " 23,\n",
       " 24,\n",
       " 25,\n",
       " 26,\n",
       " 27,\n",
       " 28,\n",
       " 29,\n",
       " 30]"
      ]
     },
     "execution_count": 15,
     "metadata": {},
     "output_type": "execute_result"
    }
   ],
   "source": [
    "A"
   ]
  },
  {
   "cell_type": "code",
   "execution_count": 16,
   "id": "f82f9762",
   "metadata": {},
   "outputs": [],
   "source": [
    "#filter function in lambda\n",
    "\n",
    "numlist=list(range(1,11))\n",
    "B=list(filter(lambda x:x%3==0,numlist))"
   ]
  },
  {
   "cell_type": "code",
   "execution_count": 17,
   "id": "81f56e0b",
   "metadata": {},
   "outputs": [
    {
     "data": {
      "text/plain": [
       "[1, 2, 3, 4, 5, 6, 7, 8, 9, 10]"
      ]
     },
     "execution_count": 17,
     "metadata": {},
     "output_type": "execute_result"
    }
   ],
   "source": [
    "numlist"
   ]
  },
  {
   "cell_type": "code",
   "execution_count": 18,
   "id": "7c47e03e",
   "metadata": {},
   "outputs": [
    {
     "data": {
      "text/plain": [
       "[3, 6, 9]"
      ]
     },
     "execution_count": 18,
     "metadata": {},
     "output_type": "execute_result"
    }
   ],
   "source": [
    "B"
   ]
  },
  {
   "cell_type": "code",
   "execution_count": 19,
   "id": "2bc6a52a",
   "metadata": {},
   "outputs": [
    {
     "data": {
      "text/plain": [
       "3628800"
      ]
     },
     "execution_count": 19,
     "metadata": {},
     "output_type": "execute_result"
    }
   ],
   "source": [
    "#reduce\n",
    "from functools import reduce\n",
    "reduce(lambda x,y:x*y,numlist)          #factorial of a number"
   ]
  },
  {
   "cell_type": "code",
   "execution_count": 20,
   "id": "f96dd0df",
   "metadata": {},
   "outputs": [
    {
     "data": {
      "text/plain": [
       "1"
      ]
     },
     "execution_count": 20,
     "metadata": {},
     "output_type": "execute_result"
    }
   ],
   "source": [
    "from functools import reduce\n",
    "reduce(lambda x,y:x if x<y else y,numlist)            #minimum in a list"
   ]
  },
  {
   "cell_type": "markdown",
   "id": "368215d1",
   "metadata": {},
   "source": [
    "###user defined functions"
   ]
  },
  {
   "cell_type": "code",
   "execution_count": 2,
   "id": "a996dd64",
   "metadata": {},
   "outputs": [],
   "source": [
    "def greet():                  #def keyword is used to dfine a function\n",
    "    print(\"hello\")\n",
    "                                    #function sholud not be a keyword"
   ]
  },
  {
   "cell_type": "code",
   "execution_count": 3,
   "id": "63b46283",
   "metadata": {},
   "outputs": [
    {
     "name": "stdout",
     "output_type": "stream",
     "text": [
      "hello\n"
     ]
    }
   ],
   "source": [
    "greet()"
   ]
  },
  {
   "cell_type": "code",
   "execution_count": 7,
   "id": "b1786078",
   "metadata": {},
   "outputs": [
    {
     "name": "stdout",
     "output_type": "stream",
     "text": [
      "enter your name:kousi\n",
      "hello kousi welcome to the show\n"
     ]
    }
   ],
   "source": [
    "def gretings(name):\n",
    "    name=input(\"enter your name:\")\n",
    "    print(\"hello\",name,\"welcome to the show\")\n",
    "    \n",
    "gretings(name)"
   ]
  },
  {
   "cell_type": "code",
   "execution_count": 8,
   "id": "04ff69a4",
   "metadata": {},
   "outputs": [
    {
     "data": {
      "text/plain": [
       "50"
      ]
     },
     "execution_count": 8,
     "metadata": {},
     "output_type": "execute_result"
    }
   ],
   "source": [
    "def mul(num1):\n",
    "    return(num1*10)\n",
    "mul(5)\n"
   ]
  },
  {
   "cell_type": "code",
   "execution_count": 11,
   "id": "6bbb9d66",
   "metadata": {},
   "outputs": [],
   "source": [
    "def mul(n1,n2):\n",
    "    multiply=n1*n2\n",
    "    return                            #returns none\n",
    "mul(3,4)"
   ]
  },
  {
   "cell_type": "code",
   "execution_count": 13,
   "id": "8d4bbde9",
   "metadata": {},
   "outputs": [
    {
     "name": "stdout",
     "output_type": "stream",
     "text": [
      "3125\n"
     ]
    }
   ],
   "source": [
    "def expo(n):\n",
    "    exponent=n**n\n",
    "    return exponent                  #assigning to an variable\n",
    "new_assignment=expo(5)\n",
    "print(new_assignment)"
   ]
  },
  {
   "cell_type": "markdown",
   "id": "a0f53789",
   "metadata": {},
   "source": [
    "#required arguments"
   ]
  },
  {
   "cell_type": "code",
   "execution_count": 14,
   "id": "b69a3eeb",
   "metadata": {},
   "outputs": [
    {
     "name": "stdout",
     "output_type": "stream",
     "text": [
      "first news: less imprt news:)\n",
      "second news: important news....!\n"
     ]
    }
   ],
   "source": [
    "def news(new1,new2):\n",
    "    print(\"first news:\",new1)\n",
    "    print(\"second news:\",new2)\n",
    "new1=\"important news....!\"\n",
    "new2=\"less imprt news:)\"\n",
    "news(new2,new1)                   #call the values in cporrect position order"
   ]
  },
  {
   "cell_type": "code",
   "execution_count": 15,
   "id": "15b40514",
   "metadata": {},
   "outputs": [
    {
     "ename": "TypeError",
     "evalue": "news() missing 2 required positional arguments: 'new1' and 'new2'",
     "output_type": "error",
     "traceback": [
      "\u001b[1;31m---------------------------------------------------------------------------\u001b[0m",
      "\u001b[1;31mTypeError\u001b[0m                                 Traceback (most recent call last)",
      "\u001b[1;32m<ipython-input-15-99b1e1bee1f2>\u001b[0m in \u001b[0;36m<module>\u001b[1;34m\u001b[0m\n\u001b[0;32m      4\u001b[0m \u001b[0mnew1\u001b[0m\u001b[1;33m=\u001b[0m\u001b[1;34m\"important news....!\"\u001b[0m\u001b[1;33m\u001b[0m\u001b[1;33m\u001b[0m\u001b[0m\n\u001b[0;32m      5\u001b[0m \u001b[0mnew2\u001b[0m\u001b[1;33m=\u001b[0m\u001b[1;34m\"less imprt news:)\"\u001b[0m\u001b[1;33m\u001b[0m\u001b[1;33m\u001b[0m\u001b[0m\n\u001b[1;32m----> 6\u001b[1;33m \u001b[0mnews\u001b[0m\u001b[1;33m(\u001b[0m\u001b[1;33m)\u001b[0m\u001b[1;33m\u001b[0m\u001b[1;33m\u001b[0m\u001b[0m\n\u001b[0m",
      "\u001b[1;31mTypeError\u001b[0m: news() missing 2 required positional arguments: 'new1' and 'new2'"
     ]
    }
   ],
   "source": [
    "def news(new1,new2):\n",
    "    print(\"first news:\",new1)\n",
    "    print(\"second news:\",new2)\n",
    "new1=\"important news....!\"\n",
    "new2=\"less imprt news:)\"\n",
    "news()                                 #will throw an error ------->arguments are required"
   ]
  },
  {
   "cell_type": "code",
   "execution_count": 16,
   "id": "7c1d0779",
   "metadata": {},
   "outputs": [
    {
     "ename": "TypeError",
     "evalue": "mul() takes 0 positional arguments but 2 were given",
     "output_type": "error",
     "traceback": [
      "\u001b[1;31m---------------------------------------------------------------------------\u001b[0m",
      "\u001b[1;31mTypeError\u001b[0m                                 Traceback (most recent call last)",
      "\u001b[1;32m<ipython-input-16-084d63255196>\u001b[0m in \u001b[0;36m<module>\u001b[1;34m\u001b[0m\n\u001b[0;32m      2\u001b[0m     \u001b[0mmultiply\u001b[0m\u001b[1;33m=\u001b[0m\u001b[0mn1\u001b[0m\u001b[1;33m*\u001b[0m\u001b[0mn2\u001b[0m\u001b[1;33m\u001b[0m\u001b[1;33m\u001b[0m\u001b[0m\n\u001b[0;32m      3\u001b[0m     \u001b[1;32mreturn\u001b[0m                            \u001b[1;31m#returns none\u001b[0m\u001b[1;33m\u001b[0m\u001b[1;33m\u001b[0m\u001b[0m\n\u001b[1;32m----> 4\u001b[1;33m \u001b[0mmul\u001b[0m\u001b[1;33m(\u001b[0m\u001b[1;36m3\u001b[0m\u001b[1;33m,\u001b[0m\u001b[1;36m4\u001b[0m\u001b[1;33m)\u001b[0m\u001b[1;33m\u001b[0m\u001b[1;33m\u001b[0m\u001b[0m\n\u001b[0m",
      "\u001b[1;31mTypeError\u001b[0m: mul() takes 0 positional arguments but 2 were given"
     ]
    }
   ],
   "source": [
    "def mul():\n",
    "    multiply=n1*n2\n",
    "    return                            #throws an error ->it does not requires an argument\n",
    "mul(3,4)"
   ]
  },
  {
   "cell_type": "markdown",
   "id": "1b73122a",
   "metadata": {},
   "source": [
    "#keyword arguments"
   ]
  },
  {
   "cell_type": "code",
   "execution_count": 22,
   "id": "415e2bfe",
   "metadata": {},
   "outputs": [
    {
     "name": "stdout",
     "output_type": "stream",
     "text": [
      "name= kailash\n",
      "\n",
      " age= 34\n",
      "name= kailash\n",
      "\n",
      " age= 34\n"
     ]
    }
   ],
   "source": [
    "def keyword(name,age):\n",
    "    print(\"name=\",name)\n",
    "    print(\"\\n\", \"age=\",age)\n",
    "keyword(name=\"kailash\",age=34)\n",
    "keyword(age=34,name=\"kailash\")"
   ]
  },
  {
   "cell_type": "markdown",
   "id": "9cc0fb0a",
   "metadata": {},
   "source": [
    "#default arguments"
   ]
  },
  {
   "cell_type": "code",
   "execution_count": 23,
   "id": "637e4c3b",
   "metadata": {},
   "outputs": [
    {
     "name": "stdout",
     "output_type": "stream",
     "text": [
      "108 kani hostel\n"
     ]
    }
   ],
   "source": [
    "#defining a function with default arguments\n",
    "def default_values(room_no,hostel=\"kani hostel\"):\n",
    "    print(room_no,hostel)\n",
    "default_values(108)"
   ]
  },
  {
   "cell_type": "markdown",
   "id": "4541cd28",
   "metadata": {},
   "source": [
    "#variable length arguments"
   ]
  },
  {
   "cell_type": "code",
   "execution_count": 27,
   "id": "11ff1bdc",
   "metadata": {},
   "outputs": [
    {
     "name": "stdout",
     "output_type": "stream",
     "text": [
      "Even numbers= 6\n",
      "Even numbers= 8\n",
      "Even numbers= 10\n",
      "Even numbers= 12\n",
      "Even numbers= 14\n"
     ]
    }
   ],
   "source": [
    "def numbers(*anynum):    #takes any num er f arguments\n",
    "    i=0\n",
    "    for i in anynum:\n",
    "        i*=2\n",
    "        print(\"Even numbers=\",i)\n",
    "numbers(3,4,5,6,7)\n",
    "        "
   ]
  },
  {
   "cell_type": "code",
   "execution_count": 38,
   "id": "e549e14b",
   "metadata": {},
   "outputs": [
    {
     "name": "stdout",
     "output_type": "stream",
     "text": [
      "first_name is jack\n",
      "sal is 20200\n"
     ]
    }
   ],
   "source": [
    "def ds(**new_dict):\n",
    "    for n1, n2 in new_dict.items():\n",
    "        print(n1,\"is\",n2)\n",
    "ds(first_name=\"jack\",sal=\"20200\")"
   ]
  },
  {
   "cell_type": "code",
   "execution_count": null,
   "id": "425fda3e",
   "metadata": {},
   "outputs": [],
   "source": []
  }
 ],
 "metadata": {
  "kernelspec": {
   "display_name": "Python 3",
   "language": "python",
   "name": "python3"
  },
  "language_info": {
   "codemirror_mode": {
    "name": "ipython",
    "version": 3
   },
   "file_extension": ".py",
   "mimetype": "text/x-python",
   "name": "python",
   "nbconvert_exporter": "python",
   "pygments_lexer": "ipython3",
   "version": "3.8.8"
  }
 },
 "nbformat": 4,
 "nbformat_minor": 5
}
