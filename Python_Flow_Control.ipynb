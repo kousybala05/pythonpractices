{
 "cells": [
  {
   "cell_type": "markdown",
   "id": "e9b97e06",
   "metadata": {},
   "source": [
    "#conditional stmts"
   ]
  },
  {
   "cell_type": "code",
   "execution_count": 1,
   "id": "67b1b09c",
   "metadata": {},
   "outputs": [
    {
     "name": "stdout",
     "output_type": "stream",
     "text": [
      "10 even number\n"
     ]
    }
   ],
   "source": [
    "num=10\n",
    "if(num%2==0):\n",
    "    print(num,\"even number\")\n"
   ]
  },
  {
   "cell_type": "code",
   "execution_count": 2,
   "id": "422c01f5",
   "metadata": {},
   "outputs": [
    {
     "name": "stdout",
     "output_type": "stream",
     "text": [
      "11 is odd number\n",
      "done\n"
     ]
    }
   ],
   "source": [
    "num=11\n",
    "if(num%2==0):\n",
    "    print(num,\"is even number\")\n",
    "else:\n",
    "    print(num,\"is odd number\")\n",
    "print(\"done\")"
   ]
  },
  {
   "cell_type": "code",
   "execution_count": 3,
   "id": "24ccd312",
   "metadata": {},
   "outputs": [
    {
     "name": "stdout",
     "output_type": "stream",
     "text": [
      "enter a value:5\n",
      "it is less than ten!\n"
     ]
    }
   ],
   "source": [
    "s=int(input(\"enter a value:\"))\n",
    "if(s<10):\n",
    "    print(\"it is less than ten!\")\n",
    "elif(s<20 and s>10):\n",
    "    print(\"it is between 10 and 20\")\n",
    "elif(s<30 and s>20):\n",
    "    print(\"it is between 20 and 30\")\n",
    "else:\n",
    "    print(\"number is greater than 30\")"
   ]
  },
  {
   "cell_type": "code",
   "execution_count": 4,
   "id": "108a7a27",
   "metadata": {},
   "outputs": [
    {
     "name": "stdout",
     "output_type": "stream",
     "text": [
      "enter value 1 : 8\n",
      "enter value 2 : 5\n",
      "enter value 3 : 9\n",
      "num 3 is greater\n"
     ]
    }
   ],
   "source": [
    "#nested ifelse stmt\n",
    "\n",
    "a=int(input(\"enter value 1 : \"))\n",
    "b=int(input(\"enter value 2 : \"))\n",
    "c=int(input(\"enter value 3 : \"))\n",
    "if(a>b and a>c):\n",
    "    print(\"num 1 is greater\")\n",
    "else:\n",
    "    if(b>c):\n",
    "        print(\"num 2 is greater\")\n",
    "    else:\n",
    "        print(\"num 3 is greater\")"
   ]
  },
  {
   "cell_type": "code",
   "execution_count": 5,
   "id": "aa1a87d1",
   "metadata": {},
   "outputs": [
    {
     "name": "stdout",
     "output_type": "stream",
     "text": [
      "210\n"
     ]
    }
   ],
   "source": [
    "#while\n",
    "num=20\n",
    "sum=0\n",
    "i=0\n",
    "while(i<=num):\n",
    "    sum+=i\n",
    "    i+=1\n",
    "print(sum)"
   ]
  },
  {
   "cell_type": "code",
   "execution_count": 6,
   "id": "258f137d",
   "metadata": {},
   "outputs": [
    {
     "name": "stdout",
     "output_type": "stream",
     "text": [
      "210\n"
     ]
    }
   ],
   "source": [
    "num=20\n",
    "sum=0\n",
    "i=0\n",
    "while(i<=num):\n",
    "    sum+=i\n",
    "    i+=1\n",
    "print(sum)"
   ]
  },
  {
   "cell_type": "code",
   "execution_count": null,
   "id": "bc8ea646",
   "metadata": {},
   "outputs": [],
   "source": [
    "\n"
   ]
  },
  {
   "cell_type": "markdown",
   "id": "e0ba857e",
   "metadata": {},
   "source": [
    "#complte the shortcut keys\n",
    "#d/w for and while loop\n",
    "#data analytics in python\n",
    "#data analytics with R\n",
    "#why python is preferable"
   ]
  }
 ],
 "metadata": {
  "kernelspec": {
   "display_name": "Python 3",
   "language": "python",
   "name": "python3"
  },
  "language_info": {
   "codemirror_mode": {
    "name": "ipython",
    "version": 3
   },
   "file_extension": ".py",
   "mimetype": "text/x-python",
   "name": "python",
   "nbconvert_exporter": "python",
   "pygments_lexer": "ipython3",
   "version": "3.8.8"
  }
 },
 "nbformat": 4,
 "nbformat_minor": 5
}
