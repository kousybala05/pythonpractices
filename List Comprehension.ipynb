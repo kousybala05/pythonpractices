{
 "cells": [
  {
   "cell_type": "markdown",
   "id": "45662cbb",
   "metadata": {},
   "source": [
    "#list comprehension\n",
    "\n",
    "#provides a concise way to create  a list  from another iterable\n",
    "#output is always a list\n",
    "#it is possible to use conditions and loops in a list comprehension\n",
    "#syntax--->[output for i in list if condition]\n"
   ]
  },
  {
   "cell_type": "code",
   "execution_count": 2,
   "id": "cd1c0962",
   "metadata": {},
   "outputs": [
    {
     "data": {
      "text/plain": [
       "[1, 4, 9, 16, 25, 36, 49, 64]"
      ]
     },
     "execution_count": 2,
     "metadata": {},
     "output_type": "execute_result"
    }
   ],
   "source": [
    "square=[i*i for i in range(1,9)]\n",
    "square"
   ]
  },
  {
   "cell_type": "code",
   "execution_count": 5,
   "id": "2ec52b8c",
   "metadata": {},
   "outputs": [
    {
     "data": {
      "text/plain": [
       "[2, 4, 6, 146.8]"
      ]
     },
     "execution_count": 5,
     "metadata": {},
     "output_type": "execute_result"
    }
   ],
   "source": [
    "elements=[1,2,3,73.4]\n",
    "A=[i*2 for i in elements ]\n",
    "A"
   ]
  },
  {
   "cell_type": "code",
   "execution_count": 6,
   "id": "fe781609",
   "metadata": {},
   "outputs": [
    {
     "data": {
      "text/plain": [
       "['a', 'o', 'c', 'b']"
      ]
     },
     "execution_count": 6,
     "metadata": {},
     "output_type": "execute_result"
    }
   ],
   "source": [
    "#getting first letter \n",
    "new_list=['apple','orange','cat','ball']\n",
    "f_letter=[f[0] for f in new_list]\n",
    "f_letter"
   ]
  },
  {
   "cell_type": "code",
   "execution_count": 7,
   "id": "cd848b2e",
   "metadata": {},
   "outputs": [
    {
     "data": {
      "text/plain": [
       "['ap', 'or', 'ca', 'ba']"
      ]
     },
     "execution_count": 7,
     "metadata": {},
     "output_type": "execute_result"
    }
   ],
   "source": [
    "new_list=['apple','orange','cat','ball']\n",
    "f_letter=[f[0:2] for f in new_list]\n",
    "f_letter"
   ]
  },
  {
   "cell_type": "code",
   "execution_count": 8,
   "id": "8f602bb6",
   "metadata": {},
   "outputs": [
    {
     "data": {
      "text/plain": [
       "['elppa', 'egnaro', 'tac', 'llab']"
      ]
     },
     "execution_count": 8,
     "metadata": {},
     "output_type": "execute_result"
    }
   ],
   "source": [
    "#reversing every elements in a list\n",
    "new_list=['apple','orange','cat','ball']\n",
    "f_letter=[f[::-1] for f in new_list]\n",
    "f_letter"
   ]
  },
  {
   "cell_type": "code",
   "execution_count": 1,
   "id": "711f8266",
   "metadata": {},
   "outputs": [
    {
     "data": {
      "text/plain": [
       "[20, 3]"
      ]
     },
     "execution_count": 1,
     "metadata": {},
     "output_type": "execute_result"
    }
   ],
   "source": [
    "txt=\"I am 20 years old.studying 3 rd year!\"\n",
    "number=[int(i) for i in txt.split() if i.isdigit()==True]\n",
    "number"
   ]
  },
  {
   "cell_type": "code",
   "execution_count": 2,
   "id": "136b01dc",
   "metadata": {},
   "outputs": [
    {
     "data": {
      "text/plain": [
       "['i', 'i', 'a', 'a', 'e', 'a']"
      ]
     },
     "execution_count": 2,
     "metadata": {},
     "output_type": "execute_result"
    }
   ],
   "source": [
    "#printing all vowels in a string\n",
    "sentence=\"this is a brand new car\"\n",
    "result=[i for i in sentence if i in 'aeiouAEUIO']\n",
    "result"
   ]
  },
  {
   "cell_type": "code",
   "execution_count": 8,
   "id": "ab3d2336",
   "metadata": {},
   "outputs": [
    {
     "data": {
      "text/plain": [
       "['t',\n",
       " 'h',\n",
       " 's',\n",
       " ' ',\n",
       " 's',\n",
       " ' ',\n",
       " ' ',\n",
       " 'b',\n",
       " 'r',\n",
       " 'n',\n",
       " 'd',\n",
       " ' ',\n",
       " 'n',\n",
       " 'w',\n",
       " ' ',\n",
       " 'c',\n",
       " 'r']"
      ]
     },
     "execution_count": 8,
     "metadata": {},
     "output_type": "execute_result"
    }
   ],
   "source": [
    "#printing consonents\n",
    "\n",
    "result=[i for i in sentence if i not in 'aeiouAEUIO']\n",
    "result"
   ]
  },
  {
   "cell_type": "code",
   "execution_count": 10,
   "id": "c9184b10",
   "metadata": {},
   "outputs": [
    {
     "data": {
      "text/plain": [
       "[25, 10, 35]"
      ]
     },
     "execution_count": 10,
     "metadata": {},
     "output_type": "execute_result"
    }
   ],
   "source": [
    "#if else condition in list comprehension\n",
    "strings=['lemon','honey','sugar']\n",
    "lst=[25 if s=='lemon' else 35 if s=='sugar' else 10 for s in strings]\n",
    "lst"
   ]
  },
  {
   "cell_type": "code",
   "execution_count": 12,
   "id": "a43b1dd1",
   "metadata": {},
   "outputs": [
    {
     "data": {
      "text/plain": [
       "['lemo', 'hone', 'suga']"
      ]
     },
     "execution_count": 12,
     "metadata": {},
     "output_type": "execute_result"
    }
   ],
   "source": [
    "long=[v[0:4] for v in strings]\n",
    "long"
   ]
  },
  {
   "cell_type": "code",
   "execution_count": 21,
   "id": "6637d4c9",
   "metadata": {},
   "outputs": [
    {
     "data": {
      "text/plain": [
       "['cocurricular']"
      ]
     },
     "execution_count": 21,
     "metadata": {},
     "output_type": "execute_result"
    }
   ],
   "source": [
    "#strings in a list that are longer than 9\n",
    "lst_new=['education','cocurricular','happiness','weird']\n",
    "long=[x for x in lst_new if len(x)>9]\n",
    "long"
   ]
  },
  {
   "cell_type": "code",
   "execution_count": null,
   "id": "f66e6a92",
   "metadata": {},
   "outputs": [],
   "source": []
  }
 ],
 "metadata": {
  "kernelspec": {
   "display_name": "Python 3",
   "language": "python",
   "name": "python3"
  },
  "language_info": {
   "codemirror_mode": {
    "name": "ipython",
    "version": 3
   },
   "file_extension": ".py",
   "mimetype": "text/x-python",
   "name": "python",
   "nbconvert_exporter": "python",
   "pygments_lexer": "ipython3",
   "version": "3.8.8"
  }
 },
 "nbformat": 4,
 "nbformat_minor": 5
}
