{
 "cells": [
  {
   "cell_type": "markdown",
   "id": "7112cee9",
   "metadata": {},
   "source": [
    "# dictionaries\n",
    "\n",
    "#elements exists in key value pair\n",
    "#use curly brackets for creating a dictionary\n",
    "#use square brackets for access its index\n",
    "#they are mutable and unordered"
   ]
  },
  {
   "cell_type": "code",
   "execution_count": 1,
   "id": "f425ac69",
   "metadata": {},
   "outputs": [
    {
     "data": {
      "text/plain": [
       "{'sql': 5, 'python': 7, 'datastructures': 6}"
      ]
     },
     "execution_count": 1,
     "metadata": {},
     "output_type": "execute_result"
    }
   ],
   "source": [
    "learnings={'sql':5,'python':7,'datastructures':6}   #creating a dictionary\n",
    "learnings"
   ]
  },
  {
   "cell_type": "code",
   "execution_count": 2,
   "id": "e04f4174",
   "metadata": {},
   "outputs": [
    {
     "data": {
      "text/plain": [
       "dict"
      ]
     },
     "execution_count": 2,
     "metadata": {},
     "output_type": "execute_result"
    }
   ],
   "source": [
    "type(learnings)"
   ]
  },
  {
   "cell_type": "code",
   "execution_count": 3,
   "id": "753b9063",
   "metadata": {},
   "outputs": [],
   "source": [
    "learnings['java']=10      #appending a value to dict\n"
   ]
  },
  {
   "cell_type": "code",
   "execution_count": 4,
   "id": "75d4efa0",
   "metadata": {},
   "outputs": [
    {
     "data": {
      "text/plain": [
       "{'sql': 5, 'python': 7, 'datastructures': 6, 'java': 10}"
      ]
     },
     "execution_count": 4,
     "metadata": {},
     "output_type": "execute_result"
    }
   ],
   "source": [
    "learnings"
   ]
  },
  {
   "cell_type": "code",
   "execution_count": 5,
   "id": "e5d193a0",
   "metadata": {},
   "outputs": [],
   "source": [
    "del learnings['java']           #deleting a value"
   ]
  },
  {
   "cell_type": "code",
   "execution_count": 6,
   "id": "fc8caf21",
   "metadata": {},
   "outputs": [
    {
     "data": {
      "text/plain": [
       "{'sql': 5, 'python': 7, 'datastructures': 6}"
      ]
     },
     "execution_count": 6,
     "metadata": {},
     "output_type": "execute_result"
    }
   ],
   "source": [
    "learnings"
   ]
  },
  {
   "cell_type": "code",
   "execution_count": 7,
   "id": "115d93aa",
   "metadata": {},
   "outputs": [
    {
     "ename": "KeyError",
     "evalue": "'can'",
     "output_type": "error",
     "traceback": [
      "\u001b[1;31m---------------------------------------------------------------------------\u001b[0m",
      "\u001b[1;31mKeyError\u001b[0m                                  Traceback (most recent call last)",
      "\u001b[1;32m<ipython-input-7-6578baf74831>\u001b[0m in \u001b[0;36m<module>\u001b[1;34m\u001b[0m\n\u001b[0;32m      6\u001b[0m         \u001b[0mcount_word\u001b[0m\u001b[1;33m[\u001b[0m\u001b[0mword\u001b[0m\u001b[1;33m]\u001b[0m\u001b[1;33m=\u001b[0m\u001b[1;36m1\u001b[0m\u001b[1;33m\u001b[0m\u001b[1;33m\u001b[0m\u001b[0m\n\u001b[0;32m      7\u001b[0m     \u001b[1;32melse\u001b[0m\u001b[1;33m:\u001b[0m\u001b[1;33m\u001b[0m\u001b[1;33m\u001b[0m\u001b[0m\n\u001b[1;32m----> 8\u001b[1;33m         \u001b[0mcount_word\u001b[0m\u001b[1;33m[\u001b[0m\u001b[0mword\u001b[0m\u001b[1;33m]\u001b[0m\u001b[1;33m+=\u001b[0m\u001b[1;36m1\u001b[0m\u001b[1;33m\u001b[0m\u001b[1;33m\u001b[0m\u001b[0m\n\u001b[0m\u001b[0;32m      9\u001b[0m \u001b[0mprint\u001b[0m\u001b[1;33m(\u001b[0m\u001b[0mcount_word\u001b[0m\u001b[1;33m)\u001b[0m\u001b[1;33m\u001b[0m\u001b[1;33m\u001b[0m\u001b[0m\n\u001b[0;32m     10\u001b[0m \u001b[1;33m\u001b[0m\u001b[0m\n",
      "\u001b[1;31mKeyError\u001b[0m: 'can'"
     ]
    }
   ],
   "source": [
    "twister=\"can you can a can can canner a can\"\n",
    "count_word={}\n",
    "\n",
    "for word in twister.split():\n",
    "    if(word not in twister):\n",
    "        count_word[word]=1\n",
    "    else:\n",
    "        count_word[word]+=1           \n",
    "print(count_word)  \n",
    "\n",
    "#sicnce it is not initialized with any num but we are trying to add a 1 to it it will throw an error"
   ]
  },
  {
   "cell_type": "code",
   "execution_count": null,
   "id": "f561b4d8",
   "metadata": {},
   "outputs": [],
   "source": [
    "#importing default dict from collections\n",
    "\n",
    "from collections import defaultdict\n",
    "\n",
    "#initializing a empty dictionary object\n",
    "count_word=defaultdict(int)\n",
    "\n",
    "for word in twister.split():\n",
    "    #count the frequency\n",
    "    if(word not in twister):\n",
    "        count_word[word]=1\n",
    "    else:\n",
    "        count_word[word]+=1           \n",
    "print(count_word)\n",
    "\n",
    "#looping through the dictionarylen\n",
    "for key,value in count_word.items():\n",
    "    print(key,value)\n"
   ]
  },
  {
   "cell_type": "code",
   "execution_count": null,
   "id": "44c4ce02",
   "metadata": {},
   "outputs": [],
   "source": [
    "len(learnings)"
   ]
  },
  {
   "cell_type": "code",
   "execution_count": null,
   "id": "50f845b6",
   "metadata": {},
   "outputs": [],
   "source": [
    "new_dict={1:'one',2:'two',3:'three',3:'four'}\n",
    "\n",
    "new_dict()\n",
    "#keys cannot have duplicate values\n"
   ]
  },
  {
   "cell_type": "code",
   "execution_count": null,
   "id": "cfa30f60",
   "metadata": {},
   "outputs": [],
   "source": [
    "new_dict={1:'one',2:'two',3:'three',4:'three'}\n",
    "#values can have duplicate values"
   ]
  },
  {
   "cell_type": "code",
   "execution_count": null,
   "id": "59aac95a",
   "metadata": {},
   "outputs": [],
   "source": [
    "new_dict"
   ]
  },
  {
   "cell_type": "code",
   "execution_count": null,
   "id": "937310fc",
   "metadata": {},
   "outputs": [],
   "source": [
    "dictionary=new_dict.copy()\n",
    "dictionary\n"
   ]
  },
  {
   "cell_type": "code",
   "execution_count": null,
   "id": "a22720eb",
   "metadata": {},
   "outputs": [],
   "source": [
    "dictionary.keys()    #returns the keys\n",
    "\n"
   ]
  },
  {
   "cell_type": "code",
   "execution_count": null,
   "id": "9bc1353c",
   "metadata": {},
   "outputs": [],
   "source": [
    "dictionary.values()\n",
    "#returns the values"
   ]
  },
  {
   "cell_type": "code",
   "execution_count": null,
   "id": "9be8977b",
   "metadata": {},
   "outputs": [],
   "source": [
    "dictionary.items()\n"
   ]
  },
  {
   "cell_type": "code",
   "execution_count": null,
   "id": "65562b8f",
   "metadata": {},
   "outputs": [],
   "source": [
    "type(dictionary.items())"
   ]
  },
  {
   "cell_type": "code",
   "execution_count": null,
   "id": "e6b49e35",
   "metadata": {},
   "outputs": [],
   "source": [
    "print(\"the number is:\",new_dict.get(2))     #retriving the value using key"
   ]
  },
  {
   "cell_type": "code",
   "execution_count": null,
   "id": "142fb595",
   "metadata": {},
   "outputs": [],
   "source": [
    "print(\"the number is:\",new_dict.get(7))      #since the num:7 is not present in dict"
   ]
  },
  {
   "cell_type": "code",
   "execution_count": 9,
   "id": "4f1d39e2",
   "metadata": {},
   "outputs": [
    {
     "data": {
      "text/plain": [
       "dict"
      ]
     },
     "execution_count": 9,
     "metadata": {},
     "output_type": "execute_result"
    }
   ],
   "source": [
    "vehicles={'cycle':2,'bike':7,'car':2}\n",
    "type(vehicles)"
   ]
  },
  {
   "cell_type": "code",
   "execution_count": 10,
   "id": "1b707d02",
   "metadata": {},
   "outputs": [
    {
     "data": {
      "text/plain": [
       "7"
      ]
     },
     "execution_count": 10,
     "metadata": {},
     "output_type": "execute_result"
    }
   ],
   "source": [
    "vehicles.setdefault('lorry',7)"
   ]
  },
  {
   "cell_type": "code",
   "execution_count": 11,
   "id": "ae5d2747",
   "metadata": {},
   "outputs": [
    {
     "data": {
      "text/plain": [
       "{'cycle': 2, 'bike': 7, 'car': 2, 'lorry': 7}"
      ]
     },
     "execution_count": 11,
     "metadata": {},
     "output_type": "execute_result"
    }
   ],
   "source": [
    "vehicles"
   ]
  },
  {
   "cell_type": "code",
   "execution_count": 13,
   "id": "0bb39d07",
   "metadata": {},
   "outputs": [
    {
     "data": {
      "text/plain": [
       "{'fggh': None, 'jjjkk': None, 'dfghg': None}"
      ]
     },
     "execution_count": 13,
     "metadata": {},
     "output_type": "execute_result"
    }
   ],
   "source": [
    "tup='fggh','jjjkk','dfghg'           #typecast the tuple into dictionary  using fromkeys\n",
    "dict1=dict.fromkeys(tup)\n",
    "dict1"
   ]
  },
  {
   "cell_type": "code",
   "execution_count": 15,
   "id": "51afe871",
   "metadata": {},
   "outputs": [
    {
     "data": {
      "text/plain": [
       "{'fggh': 'value', 'jjjkk': 'value', 'dfghg': 'value'}"
      ]
     },
     "execution_count": 15,
     "metadata": {},
     "output_type": "execute_result"
    }
   ],
   "source": [
    "dict2=dict.fromkeys(tup,'value')     #assigning a default value to the dictionary\n",
    "dict2"
   ]
  },
  {
   "cell_type": "code",
   "execution_count": 16,
   "id": "af3061d2",
   "metadata": {},
   "outputs": [],
   "source": [
    "vehicles['cycle']=7          #updating values"
   ]
  },
  {
   "cell_type": "code",
   "execution_count": 17,
   "id": "8d0ddf52",
   "metadata": {},
   "outputs": [
    {
     "data": {
      "text/plain": [
       "{'cycle': 7, 'bike': 7, 'car': 2, 'lorry': 7}"
      ]
     },
     "execution_count": 17,
     "metadata": {},
     "output_type": "execute_result"
    }
   ],
   "source": [
    "vehicles"
   ]
  },
  {
   "cell_type": "code",
   "execution_count": 18,
   "id": "9fe658af",
   "metadata": {},
   "outputs": [
    {
     "data": {
      "text/plain": [
       "{'cycle': 7, 'bike': 7, 'lorry': 7}"
      ]
     },
     "execution_count": 18,
     "metadata": {},
     "output_type": "execute_result"
    }
   ],
   "source": [
    "del vehicles['car']\n",
    "vehicles"
   ]
  },
  {
   "cell_type": "code",
   "execution_count": 19,
   "id": "840ec62c",
   "metadata": {},
   "outputs": [
    {
     "data": {
      "text/plain": [
       "{1: 5, 2: 6, 3: 7, 4: 8}"
      ]
     },
     "execution_count": 19,
     "metadata": {},
     "output_type": "execute_result"
    }
   ],
   "source": [
    "#zip()pairs the corresponding elements of the list as a key and value dictionary\n",
    "\n",
    "keys_dict=[1,2,3,4]\n",
    "values_dict=[5,6,7,8]\n",
    "dictionry=dict(zip(keys_dict,values_dict))\n",
    "dictionry"
   ]
  },
  {
   "cell_type": "code",
   "execution_count": null,
   "id": "573dacef",
   "metadata": {},
   "outputs": [],
   "source": []
  }
 ],
 "metadata": {
  "kernelspec": {
   "display_name": "Python 3",
   "language": "python",
   "name": "python3"
  },
  "language_info": {
   "codemirror_mode": {
    "name": "ipython",
    "version": 3
   },
   "file_extension": ".py",
   "mimetype": "text/x-python",
   "name": "python",
   "nbconvert_exporter": "python",
   "pygments_lexer": "ipython3",
   "version": "3.8.8"
  }
 },
 "nbformat": 4,
 "nbformat_minor": 5
}
