{
 "cells": [
  {
   "cell_type": "markdown",
   "id": "808678cf",
   "metadata": {},
   "source": [
    "### rules for declaring variables"
   ]
  },
  {
   "cell_type": "code",
   "execution_count": 1,
   "id": "037600c5",
   "metadata": {},
   "outputs": [
    {
     "ename": "SyntaxError",
     "evalue": "invalid syntax (<ipython-input-1-7b0dc8c117ce>, line 1)",
     "output_type": "error",
     "traceback": [
      "\u001b[1;36m  File \u001b[1;32m\"<ipython-input-1-7b0dc8c117ce>\"\u001b[1;36m, line \u001b[1;32m1\u001b[0m\n\u001b[1;33m    4sample_list=[1,2,3,4]\u001b[0m\n\u001b[1;37m     ^\u001b[0m\n\u001b[1;31mSyntaxError\u001b[0m\u001b[1;31m:\u001b[0m invalid syntax\n"
     ]
    }
   ],
   "source": [
    "4sample_list=[1,2,3,4] \n"
   ]
  },
  {
   "cell_type": "markdown",
   "id": "6d263195",
   "metadata": {},
   "source": [
    "### variable name should not start with number"
   ]
  },
  {
   "cell_type": "code",
   "execution_count": 3,
   "id": "3d9a839e",
   "metadata": {},
   "outputs": [
    {
     "ename": "SyntaxError",
     "evalue": "starred assignment target must be in a list or tuple (<ipython-input-3-81501f009e3b>, line 1)",
     "output_type": "error",
     "traceback": [
      "\u001b[1;36m  File \u001b[1;32m\"<ipython-input-3-81501f009e3b>\"\u001b[1;36m, line \u001b[1;32m1\u001b[0m\n\u001b[1;33m    *sample_list=[1,2,3,4,5]\u001b[0m\n\u001b[1;37m    ^\u001b[0m\n\u001b[1;31mSyntaxError\u001b[0m\u001b[1;31m:\u001b[0m starred assignment target must be in a list or tuple\n"
     ]
    }
   ],
   "source": [
    "*sample_list=[1,2,3,4,5]"
   ]
  },
  {
   "cell_type": "code",
   "execution_count": 7,
   "id": "9609f8ba",
   "metadata": {},
   "outputs": [],
   "source": [
    "_samplelist=[1,2,34]"
   ]
  },
  {
   "cell_type": "code",
   "execution_count": 8,
   "id": "414adbe4",
   "metadata": {},
   "outputs": [
    {
     "ename": "SyntaxError",
     "evalue": "invalid syntax (<ipython-input-8-d3e7af0d94af>, line 1)",
     "output_type": "error",
     "traceback": [
      "\u001b[1;36m  File \u001b[1;32m\"<ipython-input-8-d3e7af0d94af>\"\u001b[1;36m, line \u001b[1;32m1\u001b[0m\n\u001b[1;33m    @sample_list=[1,2,3,4]\u001b[0m\n\u001b[1;37m                ^\u001b[0m\n\u001b[1;31mSyntaxError\u001b[0m\u001b[1;31m:\u001b[0m invalid syntax\n"
     ]
    }
   ],
   "source": [
    "@sample_list=[1,2,3,4]"
   ]
  },
  {
   "cell_type": "markdown",
   "id": "efd569b9",
   "metadata": {},
   "source": [
    "### starting of the variable name should not  have other than underscore"
   ]
  },
  {
   "cell_type": "code",
   "execution_count": 9,
   "id": "4c14aa1c",
   "metadata": {},
   "outputs": [
    {
     "ename": "SyntaxError",
     "evalue": "cannot assign to operator (<ipython-input-9-5d7881bc8b6c>, line 1)",
     "output_type": "error",
     "traceback": [
      "\u001b[1;36m  File \u001b[1;32m\"<ipython-input-9-5d7881bc8b6c>\"\u001b[1;36m, line \u001b[1;32m1\u001b[0m\n\u001b[1;33m    s@mple_list=[1,2,3,4]\u001b[0m\n\u001b[1;37m    ^\u001b[0m\n\u001b[1;31mSyntaxError\u001b[0m\u001b[1;31m:\u001b[0m cannot assign to operator\n"
     ]
    }
   ],
   "source": [
    "s@mple_list=[1,2,3,4]"
   ]
  },
  {
   "cell_type": "markdown",
   "id": "6f814a0f",
   "metadata": {},
   "source": [
    "### sholud not contain any special characters"
   ]
  },
  {
   "cell_type": "code",
   "execution_count": 10,
   "id": "168d3a53",
   "metadata": {},
   "outputs": [
    {
     "ename": "SyntaxError",
     "evalue": "cannot assign to operator (<ipython-input-10-ad5b460e4f0d>, line 1)",
     "output_type": "error",
     "traceback": [
      "\u001b[1;36m  File \u001b[1;32m\"<ipython-input-10-ad5b460e4f0d>\"\u001b[1;36m, line \u001b[1;32m1\u001b[0m\n\u001b[1;33m    sample-list=[1,2,3,4]\u001b[0m\n\u001b[1;37m    ^\u001b[0m\n\u001b[1;31mSyntaxError\u001b[0m\u001b[1;31m:\u001b[0m cannot assign to operator\n"
     ]
    }
   ],
   "source": [
    "sample-list=[1,2,3,4]"
   ]
  },
  {
   "cell_type": "markdown",
   "id": "629acf66",
   "metadata": {},
   "source": [
    "### assignment operators cannot be used"
   ]
  },
  {
   "cell_type": "code",
   "execution_count": null,
   "id": "844342b0",
   "metadata": {},
   "outputs": [],
   "source": []
  },
  {
   "cell_type": "code",
   "execution_count": 11,
   "id": "89941b5b",
   "metadata": {},
   "outputs": [],
   "source": [
    "s4mple_list=[1,2,3,4] #working....can have numbers"
   ]
  },
  {
   "cell_type": "code",
   "execution_count": 12,
   "id": "5357d98b",
   "metadata": {},
   "outputs": [],
   "source": [
    "sample_List=[1,2,3,4]#working...can have underscore"
   ]
  },
  {
   "cell_type": "code",
   "execution_count": 15,
   "id": "d43ea51e",
   "metadata": {},
   "outputs": [
    {
     "ename": "NameError",
     "evalue": "name 'sample_list' is not defined",
     "output_type": "error",
     "traceback": [
      "\u001b[1;31m---------------------------------------------------------------------------\u001b[0m",
      "\u001b[1;31mNameError\u001b[0m                                 Traceback (most recent call last)",
      "\u001b[1;32m<ipython-input-15-315c0c81c964>\u001b[0m in \u001b[0;36m<module>\u001b[1;34m\u001b[0m\n\u001b[0;32m      1\u001b[0m \u001b[0mSample_list\u001b[0m\u001b[1;33m=\u001b[0m\u001b[1;33m[\u001b[0m\u001b[1;36m1\u001b[0m\u001b[1;33m,\u001b[0m\u001b[1;36m2\u001b[0m\u001b[1;33m,\u001b[0m\u001b[1;36m3\u001b[0m\u001b[1;33m,\u001b[0m\u001b[1;36m4\u001b[0m\u001b[1;33m]\u001b[0m\u001b[1;33m\u001b[0m\u001b[1;33m\u001b[0m\u001b[0m\n\u001b[1;32m----> 2\u001b[1;33m \u001b[0mprint\u001b[0m\u001b[1;33m(\u001b[0m\u001b[0msample_list\u001b[0m\u001b[1;33m)\u001b[0m\u001b[1;33m\u001b[0m\u001b[1;33m\u001b[0m\u001b[0m\n\u001b[0m",
      "\u001b[1;31mNameError\u001b[0m: name 'sample_list' is not defined"
     ]
    }
   ],
   "source": [
    "Sample_list=[1,2,3,4]\n",
    "print(sample_list)#case sensitive"
   ]
  },
  {
   "cell_type": "code",
   "execution_count": 14,
   "id": "8314799d",
   "metadata": {},
   "outputs": [],
   "source": [
    "_samplelist=[1,2,3,4]#can start with underscore"
   ]
  },
  {
   "cell_type": "code",
   "execution_count": 16,
   "id": "1fe14d16",
   "metadata": {},
   "outputs": [
    {
     "name": "stdout",
     "output_type": "stream",
     "text": [
      "7\n"
     ]
    }
   ],
   "source": [
    "x=3+4\n",
    "x=2+5\n",
    "print(x)#second assigned value is shown"
   ]
  },
  {
   "cell_type": "code",
   "execution_count": 18,
   "id": "60558fac",
   "metadata": {},
   "outputs": [
    {
     "name": "stdout",
     "output_type": "stream",
     "text": [
      "7 10\n"
     ]
    }
   ],
   "source": [
    "x=3+4\n",
    "y=4+6\n",
    "x\n",
    "y\n",
    "print(x,y)"
   ]
  },
  {
   "cell_type": "code",
   "execution_count": 19,
   "id": "1b12b952",
   "metadata": {},
   "outputs": [
    {
     "data": {
      "text/plain": [
       "9"
      ]
     },
     "execution_count": 19,
     "metadata": {},
     "output_type": "execute_result"
    }
   ],
   "source": [
    "x=4+5\n",
    "y=x\n",
    "y"
   ]
  },
  {
   "cell_type": "code",
   "execution_count": 20,
   "id": "d1c3384b",
   "metadata": {},
   "outputs": [
    {
     "data": {
      "text/plain": [
       "(10, 10)"
      ]
     },
     "execution_count": 20,
     "metadata": {},
     "output_type": "execute_result"
    }
   ],
   "source": [
    "x=y=z=10\n",
    "x,y"
   ]
  },
  {
   "cell_type": "code",
   "execution_count": 21,
   "id": "3b00d9c8",
   "metadata": {},
   "outputs": [
    {
     "data": {
      "text/plain": [
       "int"
      ]
     },
     "execution_count": 21,
     "metadata": {},
     "output_type": "execute_result"
    }
   ],
   "source": [
    "type(x)"
   ]
  },
  {
   "cell_type": "code",
   "execution_count": 22,
   "id": "cedb9965",
   "metadata": {},
   "outputs": [
    {
     "data": {
      "text/plain": [
       "(10, 7, 8)"
      ]
     },
     "execution_count": 22,
     "metadata": {},
     "output_type": "execute_result"
    }
   ],
   "source": [
    "x,y,z=10,7,8\n",
    "x,y,z"
   ]
  },
  {
   "cell_type": "code",
   "execution_count": null,
   "id": "b646b866",
   "metadata": {},
   "outputs": [],
   "source": []
  }
 ],
 "metadata": {
  "kernelspec": {
   "display_name": "Python 3",
   "language": "python",
   "name": "python3"
  },
  "language_info": {
   "codemirror_mode": {
    "name": "ipython",
    "version": 3
   },
   "file_extension": ".py",
   "mimetype": "text/x-python",
   "name": "python",
   "nbconvert_exporter": "python",
   "pygments_lexer": "ipython3",
   "version": "3.8.8"
  }
 },
 "nbformat": 4,
 "nbformat_minor": 5
}
