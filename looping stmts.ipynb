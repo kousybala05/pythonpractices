{
 "cells": [
  {
   "cell_type": "markdown",
   "id": "47b18c03",
   "metadata": {},
   "source": [
    "# LOOPS"
   ]
  },
  {
   "cell_type": "markdown",
   "id": "90605438",
   "metadata": {},
   "source": [
    "##break continue"
   ]
  },
  {
   "cell_type": "code",
   "execution_count": 10,
   "id": "4cf170e7",
   "metadata": {},
   "outputs": [
    {
     "name": "stdout",
     "output_type": "stream",
     "text": [
      "1\n",
      "2\n",
      "3\n",
      "4\n",
      "5\n",
      "6\n",
      "loop exit\n"
     ]
    }
   ],
   "source": [
    "n=[1,2,3,4,5,6]\n",
    "for i in n:\n",
    "    if(i=='3'):\n",
    "        break;\n",
    "    print(i)\n",
    "print(\"loop exit\")"
   ]
  },
  {
   "cell_type": "code",
   "execution_count": 8,
   "id": "632ab520",
   "metadata": {},
   "outputs": [
    {
     "name": "stdout",
     "output_type": "stream",
     "text": [
      "h\n",
      "e\n"
     ]
    }
   ],
   "source": [
    "n=\"helloworld\"\n",
    "for letter in n:\n",
    "    if (letter=='l'):\n",
    "        break;\n",
    "    print(letter)"
   ]
  },
  {
   "cell_type": "code",
   "execution_count": 9,
   "id": "7b6b963b",
   "metadata": {},
   "outputs": [
    {
     "name": "stdout",
     "output_type": "stream",
     "text": [
      "h\n",
      "e\n",
      "o\n",
      "w\n",
      "o\n",
      "r\n",
      "d\n"
     ]
    }
   ],
   "source": [
    "n=\"helloworld\"\n",
    "for letter in n:\n",
    "    if (letter=='l'):\n",
    "        continue;\n",
    "    print(letter)"
   ]
  },
  {
   "cell_type": "code",
   "execution_count": 14,
   "id": "cc862beb",
   "metadata": {},
   "outputs": [
    {
     "name": "stdout",
     "output_type": "stream",
     "text": [
      "1\n",
      "2\n",
      "3\n",
      "5\n",
      "6\n",
      "7\n"
     ]
    }
   ],
   "source": [
    "for j in range(1,7+1):\n",
    "    if (j==4):\n",
    "        continue;\n",
    "    print(j)\n",
    "    j+=1"
   ]
  },
  {
   "cell_type": "code",
   "execution_count": 25,
   "id": "3f4f39f1",
   "metadata": {},
   "outputs": [
    {
     "name": "stdout",
     "output_type": "stream",
     "text": [
      "enter a value:4\n",
      "4 4 4 4 \n",
      "\n",
      "4 4 4 4 \n",
      "\n",
      "4 4 4 4 \n",
      "\n",
      "4 4 4 4 \n",
      "\n"
     ]
    }
   ],
   "source": [
    "num=int(input(\"enter a value:\"))\n",
    "for i in range(1,num+1):\n",
    "    for j in range(num):\n",
    "        print(num,end=\" \")\n",
    "    print('\\n')"
   ]
  },
  {
   "cell_type": "code",
   "execution_count": null,
   "id": "8739cf8e",
   "metadata": {},
   "outputs": [],
   "source": []
  }
 ],
 "metadata": {
  "kernelspec": {
   "display_name": "Python 3",
   "language": "python",
   "name": "python3"
  },
  "language_info": {
   "codemirror_mode": {
    "name": "ipython",
    "version": 3
   },
   "file_extension": ".py",
   "mimetype": "text/x-python",
   "name": "python",
   "nbconvert_exporter": "python",
   "pygments_lexer": "ipython3",
   "version": "3.8.8"
  }
 },
 "nbformat": 4,
 "nbformat_minor": 5
}
